{
  "nbformat": 4,
  "nbformat_minor": 0,
  "metadata": {
    "colab": {
      "name": "Unspecified.ipynb",
      "provenance": [],
      "collapsed_sections": [],
      "machine_shape": "hm",
      "mount_file_id": "1L7hXCVqCu0rPzhyKSP9MwvBSyZG00OTA",
      "authorship_tag": "ABX9TyPIREV8AhMNdvWeijZgL8pf",
      "include_colab_link": true
    },
    "kernelspec": {
      "name": "python3",
      "display_name": "Python 3"
    },
    "language_info": {
      "name": "python"
    },
    "accelerator": "GPU"
  },
  "cells": [
    {
      "cell_type": "markdown",
      "metadata": {
        "id": "view-in-github",
        "colab_type": "text"
      },
      "source": [
        "<a href=\"https://colab.research.google.com/github/surensnyper/class_spatial_data_mining/blob/main/Unspecified.ipynb\" target=\"_parent\"><img src=\"https://colab.research.google.com/assets/colab-badge.svg\" alt=\"Open In Colab\"/></a>"
      ]
    },
    {
      "cell_type": "code",
      "execution_count": 1,
      "metadata": {
        "colab": {
          "base_uri": "https://localhost:8080/"
        },
        "id": "TSAGG4M0byXe",
        "outputId": "d47e8d8c-5f36-4dcd-d61d-646ef69729b8"
      },
      "outputs": [
        {
          "output_type": "stream",
          "name": "stdout",
          "text": [
            "Collecting textsearch\n",
            "  Downloading textsearch-0.0.21-py2.py3-none-any.whl (7.5 kB)\n",
            "Collecting anyascii\n",
            "  Downloading anyascii-0.3.1-py3-none-any.whl (287 kB)\n",
            "\u001b[K     |████████████████████████████████| 287 kB 4.2 MB/s \n",
            "\u001b[?25hCollecting pyahocorasick\n",
            "  Downloading pyahocorasick-1.4.4-cp37-cp37m-manylinux_2_17_x86_64.manylinux2014_x86_64.whl (106 kB)\n",
            "\u001b[K     |████████████████████████████████| 106 kB 69.2 MB/s \n",
            "\u001b[?25hInstalling collected packages: pyahocorasick, anyascii, textsearch\n",
            "Successfully installed anyascii-0.3.1 pyahocorasick-1.4.4 textsearch-0.0.21\n",
            "Collecting contractions\n",
            "  Downloading contractions-0.1.68-py2.py3-none-any.whl (8.1 kB)\n",
            "Requirement already satisfied: textsearch>=0.0.21 in /usr/local/lib/python3.7/dist-packages (from contractions) (0.0.21)\n",
            "Requirement already satisfied: pyahocorasick in /usr/local/lib/python3.7/dist-packages (from textsearch>=0.0.21->contractions) (1.4.4)\n",
            "Requirement already satisfied: anyascii in /usr/local/lib/python3.7/dist-packages (from textsearch>=0.0.21->contractions) (0.3.1)\n",
            "Installing collected packages: contractions\n",
            "Successfully installed contractions-0.1.68\n",
            "Requirement already satisfied: textsearch in /usr/local/lib/python3.7/dist-packages (0.0.21)\n",
            "Requirement already satisfied: pyahocorasick in /usr/local/lib/python3.7/dist-packages (from textsearch) (1.4.4)\n",
            "Requirement already satisfied: anyascii in /usr/local/lib/python3.7/dist-packages (from textsearch) (0.3.1)\n",
            "[nltk_data] Downloading package punkt to /root/nltk_data...\n",
            "[nltk_data]   Unzipping tokenizers/punkt.zip.\n",
            "[nltk_data] Downloading package stopwords to /root/nltk_data...\n",
            "[nltk_data]   Unzipping corpora/stopwords.zip.\n"
          ]
        },
        {
          "output_type": "execute_result",
          "data": {
            "text/plain": [
              "True"
            ]
          },
          "metadata": {},
          "execution_count": 1
        }
      ],
      "source": [
        "!pip install textsearch\n",
        "!pip install contractions\n",
        "!pip install textsearch\n",
        "import nltk\n",
        "nltk.download('punkt')\n",
        "nltk.download('stopwords')"
      ]
    },
    {
      "cell_type": "code",
      "source": [
        "import pandas as pd\n",
        "\n",
        "df = pd.read_csv('/content/drive/MyDrive/Colab Notebooks/Spatial Data Mining Project/2022_january1_january2.csv', encoding_errors='ignore')\n",
        "# df = pd.read_csv('https://github.com/dipanjanS/nlp_workshop_dhs18/raw/master/Unit%2010%20-%20Project%208%20-%20Movie%20Recommendations%20with%20Document%20Similarity/tmdb_5000_movies.csv.gz', compression='gzip')\n",
        "df.info()"
      ],
      "metadata": {
        "colab": {
          "base_uri": "https://localhost:8080/"
        },
        "id": "jgsrpWxEbzoO",
        "outputId": "3f9f12fe-28f6-4988-bb3c-b9edee3f09b8"
      },
      "execution_count": 29,
      "outputs": [
        {
          "output_type": "stream",
          "name": "stdout",
          "text": [
            "<class 'pandas.core.frame.DataFrame'>\n",
            "RangeIndex: 195 entries, 0 to 194\n",
            "Data columns (total 7 columns):\n",
            " #   Column      Non-Null Count  Dtype  \n",
            "---  ------      --------------  -----  \n",
            " 0   Unnamed: 0  195 non-null    int64  \n",
            " 1   id          195 non-null    float64\n",
            " 2   text        195 non-null    object \n",
            " 3   longitude   195 non-null    float64\n",
            " 4   latitude    195 non-null    float64\n",
            " 5   sentiment   195 non-null    float64\n",
            " 6   time        195 non-null    object \n",
            "dtypes: float64(4), int64(1), object(2)\n",
            "memory usage: 10.8+ KB\n"
          ]
        }
      ]
    },
    {
      "cell_type": "code",
      "source": [
        "df.head()"
      ],
      "metadata": {
        "colab": {
          "base_uri": "https://localhost:8080/",
          "height": 369
        },
        "id": "fyNQ-y5vcxUK",
        "outputId": "12897de0-d42d-40db-e8d9-651d18de861f"
      },
      "execution_count": 30,
      "outputs": [
        {
          "output_type": "execute_result",
          "data": {
            "text/plain": [
              "   Unnamed: 0            id  \\\n",
              "0           0  1.480000e+18   \n",
              "1           1  1.480000e+18   \n",
              "2           2  1.480000e+18   \n",
              "3           3  1.480000e+18   \n",
              "4           4  1.480000e+18   \n",
              "\n",
              "                                                text   longitude   latitude  \\\n",
              "0  From my home to yours, near and far, to all my...  -80.666848  43.143148   \n",
              "1  #TopNine #BestNine whatever you kids call it. ...    7.483300   9.066700   \n",
              "2  It??s almost been two weeks since I??ve been a... -117.158500  32.715500   \n",
              "3  Happy New Year! May 2022 be the year we are fi...  -81.053000  41.771700   \n",
              "4  Home from work, relaxing for the new year with... -117.158500  32.715500   \n",
              "\n",
              "   sentiment                      time  \n",
              "0   0.406250  2022-01-01T04:54:58.000Z  \n",
              "1   0.263920  2022-01-01T04:56:37.000Z  \n",
              "2   0.327841  2022-01-01T05:03:15.000Z  \n",
              "3   0.367614  2022-01-01T05:09:06.000Z  \n",
              "4   0.136364  2022-01-01T05:09:37.000Z  "
            ],
            "text/html": [
              "\n",
              "  <div id=\"df-1ec6f1c0-2f66-41dc-afe6-b4ec668dd786\">\n",
              "    <div class=\"colab-df-container\">\n",
              "      <div>\n",
              "<style scoped>\n",
              "    .dataframe tbody tr th:only-of-type {\n",
              "        vertical-align: middle;\n",
              "    }\n",
              "\n",
              "    .dataframe tbody tr th {\n",
              "        vertical-align: top;\n",
              "    }\n",
              "\n",
              "    .dataframe thead th {\n",
              "        text-align: right;\n",
              "    }\n",
              "</style>\n",
              "<table border=\"1\" class=\"dataframe\">\n",
              "  <thead>\n",
              "    <tr style=\"text-align: right;\">\n",
              "      <th></th>\n",
              "      <th>Unnamed: 0</th>\n",
              "      <th>id</th>\n",
              "      <th>text</th>\n",
              "      <th>longitude</th>\n",
              "      <th>latitude</th>\n",
              "      <th>sentiment</th>\n",
              "      <th>time</th>\n",
              "    </tr>\n",
              "  </thead>\n",
              "  <tbody>\n",
              "    <tr>\n",
              "      <th>0</th>\n",
              "      <td>0</td>\n",
              "      <td>1.480000e+18</td>\n",
              "      <td>From my home to yours, near and far, to all my...</td>\n",
              "      <td>-80.666848</td>\n",
              "      <td>43.143148</td>\n",
              "      <td>0.406250</td>\n",
              "      <td>2022-01-01T04:54:58.000Z</td>\n",
              "    </tr>\n",
              "    <tr>\n",
              "      <th>1</th>\n",
              "      <td>1</td>\n",
              "      <td>1.480000e+18</td>\n",
              "      <td>#TopNine #BestNine whatever you kids call it. ...</td>\n",
              "      <td>7.483300</td>\n",
              "      <td>9.066700</td>\n",
              "      <td>0.263920</td>\n",
              "      <td>2022-01-01T04:56:37.000Z</td>\n",
              "    </tr>\n",
              "    <tr>\n",
              "      <th>2</th>\n",
              "      <td>2</td>\n",
              "      <td>1.480000e+18</td>\n",
              "      <td>It??s almost been two weeks since I??ve been a...</td>\n",
              "      <td>-117.158500</td>\n",
              "      <td>32.715500</td>\n",
              "      <td>0.327841</td>\n",
              "      <td>2022-01-01T05:03:15.000Z</td>\n",
              "    </tr>\n",
              "    <tr>\n",
              "      <th>3</th>\n",
              "      <td>3</td>\n",
              "      <td>1.480000e+18</td>\n",
              "      <td>Happy New Year! May 2022 be the year we are fi...</td>\n",
              "      <td>-81.053000</td>\n",
              "      <td>41.771700</td>\n",
              "      <td>0.367614</td>\n",
              "      <td>2022-01-01T05:09:06.000Z</td>\n",
              "    </tr>\n",
              "    <tr>\n",
              "      <th>4</th>\n",
              "      <td>4</td>\n",
              "      <td>1.480000e+18</td>\n",
              "      <td>Home from work, relaxing for the new year with...</td>\n",
              "      <td>-117.158500</td>\n",
              "      <td>32.715500</td>\n",
              "      <td>0.136364</td>\n",
              "      <td>2022-01-01T05:09:37.000Z</td>\n",
              "    </tr>\n",
              "  </tbody>\n",
              "</table>\n",
              "</div>\n",
              "      <button class=\"colab-df-convert\" onclick=\"convertToInteractive('df-1ec6f1c0-2f66-41dc-afe6-b4ec668dd786')\"\n",
              "              title=\"Convert this dataframe to an interactive table.\"\n",
              "              style=\"display:none;\">\n",
              "        \n",
              "  <svg xmlns=\"http://www.w3.org/2000/svg\" height=\"24px\"viewBox=\"0 0 24 24\"\n",
              "       width=\"24px\">\n",
              "    <path d=\"M0 0h24v24H0V0z\" fill=\"none\"/>\n",
              "    <path d=\"M18.56 5.44l.94 2.06.94-2.06 2.06-.94-2.06-.94-.94-2.06-.94 2.06-2.06.94zm-11 1L8.5 8.5l.94-2.06 2.06-.94-2.06-.94L8.5 2.5l-.94 2.06-2.06.94zm10 10l.94 2.06.94-2.06 2.06-.94-2.06-.94-.94-2.06-.94 2.06-2.06.94z\"/><path d=\"M17.41 7.96l-1.37-1.37c-.4-.4-.92-.59-1.43-.59-.52 0-1.04.2-1.43.59L10.3 9.45l-7.72 7.72c-.78.78-.78 2.05 0 2.83L4 21.41c.39.39.9.59 1.41.59.51 0 1.02-.2 1.41-.59l7.78-7.78 2.81-2.81c.8-.78.8-2.07 0-2.86zM5.41 20L4 18.59l7.72-7.72 1.47 1.35L5.41 20z\"/>\n",
              "  </svg>\n",
              "      </button>\n",
              "      \n",
              "  <style>\n",
              "    .colab-df-container {\n",
              "      display:flex;\n",
              "      flex-wrap:wrap;\n",
              "      gap: 12px;\n",
              "    }\n",
              "\n",
              "    .colab-df-convert {\n",
              "      background-color: #E8F0FE;\n",
              "      border: none;\n",
              "      border-radius: 50%;\n",
              "      cursor: pointer;\n",
              "      display: none;\n",
              "      fill: #1967D2;\n",
              "      height: 32px;\n",
              "      padding: 0 0 0 0;\n",
              "      width: 32px;\n",
              "    }\n",
              "\n",
              "    .colab-df-convert:hover {\n",
              "      background-color: #E2EBFA;\n",
              "      box-shadow: 0px 1px 2px rgba(60, 64, 67, 0.3), 0px 1px 3px 1px rgba(60, 64, 67, 0.15);\n",
              "      fill: #174EA6;\n",
              "    }\n",
              "\n",
              "    [theme=dark] .colab-df-convert {\n",
              "      background-color: #3B4455;\n",
              "      fill: #D2E3FC;\n",
              "    }\n",
              "\n",
              "    [theme=dark] .colab-df-convert:hover {\n",
              "      background-color: #434B5C;\n",
              "      box-shadow: 0px 1px 3px 1px rgba(0, 0, 0, 0.15);\n",
              "      filter: drop-shadow(0px 1px 2px rgba(0, 0, 0, 0.3));\n",
              "      fill: #FFFFFF;\n",
              "    }\n",
              "  </style>\n",
              "\n",
              "      <script>\n",
              "        const buttonEl =\n",
              "          document.querySelector('#df-1ec6f1c0-2f66-41dc-afe6-b4ec668dd786 button.colab-df-convert');\n",
              "        buttonEl.style.display =\n",
              "          google.colab.kernel.accessAllowed ? 'block' : 'none';\n",
              "\n",
              "        async function convertToInteractive(key) {\n",
              "          const element = document.querySelector('#df-1ec6f1c0-2f66-41dc-afe6-b4ec668dd786');\n",
              "          const dataTable =\n",
              "            await google.colab.kernel.invokeFunction('convertToInteractive',\n",
              "                                                     [key], {});\n",
              "          if (!dataTable) return;\n",
              "\n",
              "          const docLinkHtml = 'Like what you see? Visit the ' +\n",
              "            '<a target=\"_blank\" href=https://colab.research.google.com/notebooks/data_table.ipynb>data table notebook</a>'\n",
              "            + ' to learn more about interactive tables.';\n",
              "          element.innerHTML = '';\n",
              "          dataTable['output_type'] = 'display_data';\n",
              "          await google.colab.output.renderOutput(dataTable, element);\n",
              "          const docLink = document.createElement('div');\n",
              "          docLink.innerHTML = docLinkHtml;\n",
              "          element.appendChild(docLink);\n",
              "        }\n",
              "      </script>\n",
              "    </div>\n",
              "  </div>\n",
              "  "
            ]
          },
          "metadata": {},
          "execution_count": 30
        }
      ]
    },
    {
      "cell_type": "code",
      "source": [
        "df = df[['id', 'text', 'longitude', 'latitude', 'sentiment']]\n",
        "df.id.fillna('', inplace=True)\n",
        "# df['description'] = df['Category'].map(str) + ' ' + df['Abstract']\n",
        "df.dropna(inplace=True)\n",
        "df.info()"
      ],
      "metadata": {
        "colab": {
          "base_uri": "https://localhost:8080/"
        },
        "id": "gJbjE7sn9vTC",
        "outputId": "43a70dbb-8970-4acc-cec1-d9299a696c31"
      },
      "execution_count": 31,
      "outputs": [
        {
          "output_type": "stream",
          "name": "stdout",
          "text": [
            "<class 'pandas.core.frame.DataFrame'>\n",
            "Int64Index: 195 entries, 0 to 194\n",
            "Data columns (total 5 columns):\n",
            " #   Column     Non-Null Count  Dtype  \n",
            "---  ------     --------------  -----  \n",
            " 0   id         195 non-null    float64\n",
            " 1   text       195 non-null    object \n",
            " 2   longitude  195 non-null    float64\n",
            " 3   latitude   195 non-null    float64\n",
            " 4   sentiment  195 non-null    float64\n",
            "dtypes: float64(4), object(1)\n",
            "memory usage: 9.1+ KB\n"
          ]
        }
      ]
    },
    {
      "cell_type": "code",
      "source": [
        "df.head()"
      ],
      "metadata": {
        "colab": {
          "base_uri": "https://localhost:8080/",
          "height": 213
        },
        "id": "oA30it1ld2RP",
        "outputId": "ad083d33-3167-4b9e-fb8f-95ec204abbca"
      },
      "execution_count": 32,
      "outputs": [
        {
          "output_type": "execute_result",
          "data": {
            "text/plain": [
              "             id                                               text  \\\n",
              "0  1.480000e+18  From my home to yours, near and far, to all my...   \n",
              "1  1.480000e+18  #TopNine #BestNine whatever you kids call it. ...   \n",
              "2  1.480000e+18  It??s almost been two weeks since I??ve been a...   \n",
              "3  1.480000e+18  Happy New Year! May 2022 be the year we are fi...   \n",
              "4  1.480000e+18  Home from work, relaxing for the new year with...   \n",
              "\n",
              "    longitude   latitude  sentiment  \n",
              "0  -80.666848  43.143148   0.406250  \n",
              "1    7.483300   9.066700   0.263920  \n",
              "2 -117.158500  32.715500   0.327841  \n",
              "3  -81.053000  41.771700   0.367614  \n",
              "4 -117.158500  32.715500   0.136364  "
            ],
            "text/html": [
              "\n",
              "  <div id=\"df-781f4f8d-baa7-4e04-b07a-067a09cd0b17\">\n",
              "    <div class=\"colab-df-container\">\n",
              "      <div>\n",
              "<style scoped>\n",
              "    .dataframe tbody tr th:only-of-type {\n",
              "        vertical-align: middle;\n",
              "    }\n",
              "\n",
              "    .dataframe tbody tr th {\n",
              "        vertical-align: top;\n",
              "    }\n",
              "\n",
              "    .dataframe thead th {\n",
              "        text-align: right;\n",
              "    }\n",
              "</style>\n",
              "<table border=\"1\" class=\"dataframe\">\n",
              "  <thead>\n",
              "    <tr style=\"text-align: right;\">\n",
              "      <th></th>\n",
              "      <th>id</th>\n",
              "      <th>text</th>\n",
              "      <th>longitude</th>\n",
              "      <th>latitude</th>\n",
              "      <th>sentiment</th>\n",
              "    </tr>\n",
              "  </thead>\n",
              "  <tbody>\n",
              "    <tr>\n",
              "      <th>0</th>\n",
              "      <td>1.480000e+18</td>\n",
              "      <td>From my home to yours, near and far, to all my...</td>\n",
              "      <td>-80.666848</td>\n",
              "      <td>43.143148</td>\n",
              "      <td>0.406250</td>\n",
              "    </tr>\n",
              "    <tr>\n",
              "      <th>1</th>\n",
              "      <td>1.480000e+18</td>\n",
              "      <td>#TopNine #BestNine whatever you kids call it. ...</td>\n",
              "      <td>7.483300</td>\n",
              "      <td>9.066700</td>\n",
              "      <td>0.263920</td>\n",
              "    </tr>\n",
              "    <tr>\n",
              "      <th>2</th>\n",
              "      <td>1.480000e+18</td>\n",
              "      <td>It??s almost been two weeks since I??ve been a...</td>\n",
              "      <td>-117.158500</td>\n",
              "      <td>32.715500</td>\n",
              "      <td>0.327841</td>\n",
              "    </tr>\n",
              "    <tr>\n",
              "      <th>3</th>\n",
              "      <td>1.480000e+18</td>\n",
              "      <td>Happy New Year! May 2022 be the year we are fi...</td>\n",
              "      <td>-81.053000</td>\n",
              "      <td>41.771700</td>\n",
              "      <td>0.367614</td>\n",
              "    </tr>\n",
              "    <tr>\n",
              "      <th>4</th>\n",
              "      <td>1.480000e+18</td>\n",
              "      <td>Home from work, relaxing for the new year with...</td>\n",
              "      <td>-117.158500</td>\n",
              "      <td>32.715500</td>\n",
              "      <td>0.136364</td>\n",
              "    </tr>\n",
              "  </tbody>\n",
              "</table>\n",
              "</div>\n",
              "      <button class=\"colab-df-convert\" onclick=\"convertToInteractive('df-781f4f8d-baa7-4e04-b07a-067a09cd0b17')\"\n",
              "              title=\"Convert this dataframe to an interactive table.\"\n",
              "              style=\"display:none;\">\n",
              "        \n",
              "  <svg xmlns=\"http://www.w3.org/2000/svg\" height=\"24px\"viewBox=\"0 0 24 24\"\n",
              "       width=\"24px\">\n",
              "    <path d=\"M0 0h24v24H0V0z\" fill=\"none\"/>\n",
              "    <path d=\"M18.56 5.44l.94 2.06.94-2.06 2.06-.94-2.06-.94-.94-2.06-.94 2.06-2.06.94zm-11 1L8.5 8.5l.94-2.06 2.06-.94-2.06-.94L8.5 2.5l-.94 2.06-2.06.94zm10 10l.94 2.06.94-2.06 2.06-.94-2.06-.94-.94-2.06-.94 2.06-2.06.94z\"/><path d=\"M17.41 7.96l-1.37-1.37c-.4-.4-.92-.59-1.43-.59-.52 0-1.04.2-1.43.59L10.3 9.45l-7.72 7.72c-.78.78-.78 2.05 0 2.83L4 21.41c.39.39.9.59 1.41.59.51 0 1.02-.2 1.41-.59l7.78-7.78 2.81-2.81c.8-.78.8-2.07 0-2.86zM5.41 20L4 18.59l7.72-7.72 1.47 1.35L5.41 20z\"/>\n",
              "  </svg>\n",
              "      </button>\n",
              "      \n",
              "  <style>\n",
              "    .colab-df-container {\n",
              "      display:flex;\n",
              "      flex-wrap:wrap;\n",
              "      gap: 12px;\n",
              "    }\n",
              "\n",
              "    .colab-df-convert {\n",
              "      background-color: #E8F0FE;\n",
              "      border: none;\n",
              "      border-radius: 50%;\n",
              "      cursor: pointer;\n",
              "      display: none;\n",
              "      fill: #1967D2;\n",
              "      height: 32px;\n",
              "      padding: 0 0 0 0;\n",
              "      width: 32px;\n",
              "    }\n",
              "\n",
              "    .colab-df-convert:hover {\n",
              "      background-color: #E2EBFA;\n",
              "      box-shadow: 0px 1px 2px rgba(60, 64, 67, 0.3), 0px 1px 3px 1px rgba(60, 64, 67, 0.15);\n",
              "      fill: #174EA6;\n",
              "    }\n",
              "\n",
              "    [theme=dark] .colab-df-convert {\n",
              "      background-color: #3B4455;\n",
              "      fill: #D2E3FC;\n",
              "    }\n",
              "\n",
              "    [theme=dark] .colab-df-convert:hover {\n",
              "      background-color: #434B5C;\n",
              "      box-shadow: 0px 1px 3px 1px rgba(0, 0, 0, 0.15);\n",
              "      filter: drop-shadow(0px 1px 2px rgba(0, 0, 0, 0.3));\n",
              "      fill: #FFFFFF;\n",
              "    }\n",
              "  </style>\n",
              "\n",
              "      <script>\n",
              "        const buttonEl =\n",
              "          document.querySelector('#df-781f4f8d-baa7-4e04-b07a-067a09cd0b17 button.colab-df-convert');\n",
              "        buttonEl.style.display =\n",
              "          google.colab.kernel.accessAllowed ? 'block' : 'none';\n",
              "\n",
              "        async function convertToInteractive(key) {\n",
              "          const element = document.querySelector('#df-781f4f8d-baa7-4e04-b07a-067a09cd0b17');\n",
              "          const dataTable =\n",
              "            await google.colab.kernel.invokeFunction('convertToInteractive',\n",
              "                                                     [key], {});\n",
              "          if (!dataTable) return;\n",
              "\n",
              "          const docLinkHtml = 'Like what you see? Visit the ' +\n",
              "            '<a target=\"_blank\" href=https://colab.research.google.com/notebooks/data_table.ipynb>data table notebook</a>'\n",
              "            + ' to learn more about interactive tables.';\n",
              "          element.innerHTML = '';\n",
              "          dataTable['output_type'] = 'display_data';\n",
              "          await google.colab.output.renderOutput(dataTable, element);\n",
              "          const docLink = document.createElement('div');\n",
              "          docLink.innerHTML = docLinkHtml;\n",
              "          element.appendChild(docLink);\n",
              "        }\n",
              "      </script>\n",
              "    </div>\n",
              "  </div>\n",
              "  "
            ]
          },
          "metadata": {},
          "execution_count": 32
        }
      ]
    },
    {
      "cell_type": "code",
      "source": [
        "import nltk\n",
        "import re\n",
        "import numpy as np\n",
        "import contractions\n",
        "\n",
        "stop_words = nltk.corpus.stopwords.words('english')\n",
        "\n",
        "def normalize_document(doc):\n",
        "    # lower case and remove special characters\\whitespaces\n",
        "    doc = re.sub(r'[^a-zA-Z0-9\\s]', '', doc, re.I|re.A)\n",
        "    doc = doc.lower()\n",
        "    doc = doc.strip()\n",
        "    doc = contractions.fix(doc)\n",
        "    # tokenize document\n",
        "    tokens = nltk.word_tokenize(doc)\n",
        "    #filter stopwords out of document\n",
        "    filtered_tokens = [token for token in tokens if token not in stop_words]\n",
        "    # re-create document from filtered tokens\n",
        "    doc = ' '.join(filtered_tokens)\n",
        "    return doc\n",
        "\n",
        "normalize_corpus = np.vectorize(normalize_document)\n",
        "\n",
        "norm_corpus = normalize_corpus(list(df['text']))\n",
        "len(norm_corpus)"
      ],
      "metadata": {
        "colab": {
          "base_uri": "https://localhost:8080/"
        },
        "id": "EA7Q4bqZd8VW",
        "outputId": "2c48469d-78b7-400b-e50a-a2ac7ce2d2f9"
      },
      "execution_count": 33,
      "outputs": [
        {
          "output_type": "execute_result",
          "data": {
            "text/plain": [
              "195"
            ]
          },
          "metadata": {},
          "execution_count": 33
        }
      ]
    },
    {
      "cell_type": "code",
      "source": [
        "from sklearn.feature_extraction.text import CountVectorizer\n",
        "\n",
        "stop_words = stop_words + ['one', 'two', 'three', 'four', 'five', 'get']\n",
        "cv = CountVectorizer(ngram_range=(1, 2), min_df=0.001, max_df=0.99, stop_words=stop_words)\n",
        "cv_matrix = cv.fit_transform(norm_corpus)\n",
        "cv_matrix.shape"
      ],
      "metadata": {
        "colab": {
          "base_uri": "https://localhost:8080/"
        },
        "id": "_UFcFKaieB1M",
        "outputId": "e9025c97-9c78-493e-de3d-3ff86afc3d1d"
      },
      "execution_count": 34,
      "outputs": [
        {
          "output_type": "execute_result",
          "data": {
            "text/plain": [
              "(195, 4315)"
            ]
          },
          "metadata": {},
          "execution_count": 34
        }
      ]
    },
    {
      "cell_type": "code",
      "source": [
        "from sklearn.cluster import KMeans\n",
        "\n",
        "NUM_CLUSTERS = 3\n",
        "km = KMeans(n_clusters=NUM_CLUSTERS, max_iter=10000, n_init=100, random_state=42).fit(cv_matrix)\n",
        "km"
      ],
      "metadata": {
        "colab": {
          "base_uri": "https://localhost:8080/"
        },
        "id": "rhs_RdtQeSQy",
        "outputId": "e1fc4e62-71e1-431f-b73a-1cb898914073"
      },
      "execution_count": 35,
      "outputs": [
        {
          "output_type": "execute_result",
          "data": {
            "text/plain": [
              "KMeans(max_iter=10000, n_clusters=3, n_init=100, random_state=42)"
            ]
          },
          "metadata": {},
          "execution_count": 35
        }
      ]
    },
    {
      "cell_type": "code",
      "source": [
        "from collections import Counter\n",
        "\n",
        "Counter(km.labels_)"
      ],
      "metadata": {
        "colab": {
          "base_uri": "https://localhost:8080/"
        },
        "id": "RLuKb6zSeUCo",
        "outputId": "ce7d4564-b36d-4e2e-bff1-2e1d4034d536"
      },
      "execution_count": 36,
      "outputs": [
        {
          "output_type": "execute_result",
          "data": {
            "text/plain": [
              "Counter({0: 186, 1: 4, 2: 5})"
            ]
          },
          "metadata": {},
          "execution_count": 36
        }
      ]
    },
    {
      "cell_type": "code",
      "source": [
        "df['kmeans_cluster'] = km.labels_"
      ],
      "metadata": {
        "id": "T4AVpO0JeVYW"
      },
      "execution_count": 37,
      "outputs": []
    },
    {
      "cell_type": "code",
      "source": [
        "movie_clusters = (df[['id', 'kmeans_cluster', 'text']]\n",
        "                  .sort_values(by=['kmeans_cluster', 'text'], \n",
        "                               ascending=False)\n",
        "                  .groupby('kmeans_cluster').head(20))\n",
        "movie_clusters = movie_clusters.copy(deep=True)"
      ],
      "metadata": {
        "id": "UdOgk8rQgfwS"
      },
      "execution_count": 38,
      "outputs": []
    },
    {
      "cell_type": "code",
      "source": [
        "feature_names = cv.get_feature_names()\n",
        "topn_features = 30\n",
        "ordered_centroids = km.cluster_centers_.argsort()[:, ::-1]\n",
        "\n",
        "# get key features for each cluster\n",
        "# get movies belonging to each cluster\n",
        "for cluster_num in range(NUM_CLUSTERS):\n",
        "    key_features = [feature_names[index] \n",
        "                        for index in ordered_centroids[cluster_num, :topn_features]]\n",
        "    movies = movie_clusters[movie_clusters['kmeans_cluster'] == cluster_num]['id'].values.tolist()\n",
        "    print('CLUSTER #'+str(cluster_num+1))\n",
        "    print('Key Features:', key_features)\n",
        "    print('id:', movies)\n",
        "    print('-'*80)"
      ],
      "metadata": {
        "colab": {
          "base_uri": "https://localhost:8080/"
        },
        "id": "FWS7idRmggaF",
        "outputId": "33744723-6456-4232-e136-02922048e76f"
      },
      "execution_count": 39,
      "outputs": [
        {
          "output_type": "stream",
          "name": "stdout",
          "text": [
            "CLUSTER #1\n",
            "Key Features: ['covid', 'year', 'new', '2022', 'covid19', 'new year', 'happy', 'happy new', 'pandemic', 'health', 'us', 'safe', '2021', 'family', 'corona', 'california', 'cases', 'everyone', 'happynewyear', 'amp', 'testing', 'coronavirus', 'quarantine', 'years', 'day', 'center', 'love', 'first', 'well', 'vaccine']\n",
            "id: [1.48e+18, 1.48e+18, 1.48e+18, 1.48e+18, 1.48e+18, 1.48e+18, 1.48e+18, 1.48e+18, 1.48e+18, 1.48e+18, 1.48e+18, 1.48e+18, 1.48e+18, 1.48e+18, 1.48e+18, 1.48e+18, 1.48e+18, 1.48e+18, 1.48e+18, 1.48e+18]\n",
            "--------------------------------------------------------------------------------\n",
            "CLUSTER #2\n",
            "Key Features: ['exit', 'avenue', 'hempstead avenue', 'corona', 'corona avenue', '17s hempstead', '17s', 'eb exit', 'eb', 'exit 15', '15 north', '15', 'exit 17s', 'southernstateparkway eb', 'southernstateparkway', 'north', 'hempstead', 'north corona', 'incident', 'avenue exit', 'incident southernstateparkway', 'cleared incident', 'cleared', 'httpstcoqvkvqnw3ws', 'avenue httpstcoqvkvqnw3ws', 'avenue httpstcofqb7uwzqma', 'httpstcofqb7uwzqma', 'final', 'films', 'filmed story']\n",
            "id: [1.48e+18, 1.48e+18, 1.48e+18, 1.48e+18]\n",
            "--------------------------------------------------------------------------------\n",
            "CLUSTER #3\n",
            "Key Features: ['diver', 'daley use', 'community across', 'community', 'uk', 'diver tom', 'across', 'obe', 'obe help', 'lgbt', 'lgbt community', 'help', 'help lgbt', 'tom daley', 'tom', 'olympic', 'olympic diver', 'daley', 'use obe', 'use', 'rights campaigner', 'rights', 'across world', '27yearold', 'diver gay', 'covid', 'felt', 'said', 'said felt', '27yearold diver']\n",
            "id: [1.48e+18, 1.48e+18, 1.48e+18, 1.48e+18, 1.48e+18]\n",
            "--------------------------------------------------------------------------------\n"
          ]
        },
        {
          "output_type": "stream",
          "name": "stderr",
          "text": [
            "/usr/local/lib/python3.7/dist-packages/sklearn/utils/deprecation.py:87: FutureWarning: Function get_feature_names is deprecated; get_feature_names is deprecated in 1.0 and will be removed in 1.2. Please use get_feature_names_out instead.\n",
            "  warnings.warn(msg, category=FutureWarning)\n"
          ]
        }
      ]
    },
    {
      "cell_type": "code",
      "source": [
        "from gensim.models import FastText\n",
        "\n",
        "tokenized_docs = [doc.split() for doc in norm_corpus]\n",
        "ft_model = FastText(tokenized_docs, size=300, window=40, min_count=2, workers=4, sg=1, iter=100)"
      ],
      "metadata": {
        "id": "gYYTy1-5ghEw"
      },
      "execution_count": 40,
      "outputs": []
    },
    {
      "cell_type": "code",
      "source": [
        "def averaged_word2vec_vectorizer(corpus, model, num_features):\n",
        "    vocabulary = set(model.wv.index2word)\n",
        "    \n",
        "    def average_word_vectors(words, model, vocabulary, num_features):\n",
        "        feature_vector = np.zeros((num_features,), dtype=\"float64\")\n",
        "        nwords = 0.\n",
        "        \n",
        "        for word in words:\n",
        "            if word in vocabulary: \n",
        "                nwords = nwords + 1.\n",
        "                feature_vector = np.add(feature_vector, model.wv[word])\n",
        "        if nwords:\n",
        "            feature_vector = np.divide(feature_vector, nwords)\n",
        "\n",
        "        return feature_vector\n",
        "\n",
        "    features = [average_word_vectors(tokenized_sentence, model, vocabulary, num_features)\n",
        "                    for tokenized_sentence in corpus]\n",
        "    return np.array(features)"
      ],
      "metadata": {
        "id": "ws7dgqN3gl1-"
      },
      "execution_count": 41,
      "outputs": []
    },
    {
      "cell_type": "code",
      "source": [
        "doc_vecs_ft = averaged_word2vec_vectorizer(tokenized_docs, ft_model, 300)\n",
        "doc_vecs_ft.shape"
      ],
      "metadata": {
        "colab": {
          "base_uri": "https://localhost:8080/"
        },
        "id": "BqLQd28vgmk0",
        "outputId": "ad236056-2a18-4e4b-d5fb-17db256493f8"
      },
      "execution_count": 42,
      "outputs": [
        {
          "output_type": "execute_result",
          "data": {
            "text/plain": [
              "(195, 300)"
            ]
          },
          "metadata": {},
          "execution_count": 42
        }
      ]
    },
    {
      "cell_type": "code",
      "source": [
        "NUM_CLUSTERS = 6\n",
        "km = KMeans(n_clusters=NUM_CLUSTERS, max_iter=10000, n_init=100, random_state=42).fit(doc_vecs_ft)"
      ],
      "metadata": {
        "id": "to2A82EegndM"
      },
      "execution_count": 43,
      "outputs": []
    },
    {
      "cell_type": "code",
      "source": [
        "Counter(km.labels_)"
      ],
      "metadata": {
        "colab": {
          "base_uri": "https://localhost:8080/"
        },
        "id": "wNQ6K8KogoKI",
        "outputId": "a79a31b4-f358-434e-90bc-d1a3da72740a"
      },
      "execution_count": 44,
      "outputs": [
        {
          "output_type": "execute_result",
          "data": {
            "text/plain": [
              "Counter({0: 45, 1: 12, 2: 27, 3: 6, 4: 40, 5: 65})"
            ]
          },
          "metadata": {},
          "execution_count": 44
        }
      ]
    },
    {
      "cell_type": "code",
      "source": [
        "df['kmeans_cluster'] = km.labels_\n",
        "movie_clusters = (df[['id', 'kmeans_cluster', 'text']]\n",
        "                  .sort_values(by=['kmeans_cluster', 'text'], \n",
        "                               ascending=False)\n",
        "                  .groupby('kmeans_cluster').head(30))\n",
        "movie_clusters = movie_clusters.copy(deep=True)"
      ],
      "metadata": {
        "id": "EZ1X507rgpVT"
      },
      "execution_count": 45,
      "outputs": []
    },
    {
      "cell_type": "code",
      "source": [
        "for cluster_num in range(NUM_CLUSTERS):\n",
        "    movies = movie_clusters[movie_clusters['kmeans_cluster'] == cluster_num]['id'].values.tolist()\n",
        "    print('CLUSTER #'+str(cluster_num+1))\n",
        "    print('id:', movies)\n",
        "    print('-'*80)"
      ],
      "metadata": {
        "colab": {
          "base_uri": "https://localhost:8080/"
        },
        "id": "ciT42b6agqCR",
        "outputId": "474a91dd-a6b3-47e2-a661-47cb7e4e1feb"
      },
      "execution_count": 46,
      "outputs": [
        {
          "output_type": "stream",
          "name": "stdout",
          "text": [
            "CLUSTER #1\n",
            "id: [1.48e+18, 1.48e+18, 1.48e+18, 1.48e+18, 1.48e+18, 1.48e+18, 1.48e+18, 1.48e+18, 1.48e+18, 1.48e+18, 1.48e+18, 1.48e+18, 1.48e+18, 1.48e+18, 1.48e+18, 1.48e+18, 1.48e+18, 1.48e+18, 1.48e+18, 1.48e+18, 1.48e+18, 1.48e+18, 1.48e+18, 1.48e+18, 1.48e+18, 1.48e+18, 1.48e+18, 1.48e+18, 1.48e+18, 1.48e+18]\n",
            "--------------------------------------------------------------------------------\n",
            "CLUSTER #2\n",
            "id: [1.48e+18, 1.48e+18, 1.48e+18, 1.48e+18, 1.48e+18, 1.48e+18, 1.48e+18, 1.48e+18, 1.48e+18, 1.48e+18, 1.48e+18, 1.48e+18]\n",
            "--------------------------------------------------------------------------------\n",
            "CLUSTER #3\n",
            "id: [1.48e+18, 1.48e+18, 1.48e+18, 1.48e+18, 1.48e+18, 1.48e+18, 1.48e+18, 1.48e+18, 1.48e+18, 1.48e+18, 1.48e+18, 1.48e+18, 1.48e+18, 1.48e+18, 1.48e+18, 1.48e+18, 1.48e+18, 1.48e+18, 1.48e+18, 1.48e+18, 1.48e+18, 1.48e+18, 1.48e+18, 1.48e+18, 1.48e+18, 1.48e+18, 1.48e+18]\n",
            "--------------------------------------------------------------------------------\n",
            "CLUSTER #4\n",
            "id: [1.48e+18, 1.48e+18, 1.48e+18, 1.48e+18, 1.48e+18, 1.48e+18]\n",
            "--------------------------------------------------------------------------------\n",
            "CLUSTER #5\n",
            "id: [1.48e+18, 1.48e+18, 1.48e+18, 1.48e+18, 1.48e+18, 1.48e+18, 1.48e+18, 1.48e+18, 1.48e+18, 1.48e+18, 1.48e+18, 1.48e+18, 1.48e+18, 1.48e+18, 1.48e+18, 1.48e+18, 1.48e+18, 1.48e+18, 1.48e+18, 1.48e+18, 1.48e+18, 1.48e+18, 1.48e+18, 1.48e+18, 1.48e+18, 1.48e+18, 1.48e+18, 1.48e+18, 1.48e+18, 1.48e+18]\n",
            "--------------------------------------------------------------------------------\n",
            "CLUSTER #6\n",
            "id: [1.48e+18, 1.48e+18, 1.48e+18, 1.48e+18, 1.48e+18, 1.48e+18, 1.48e+18, 1.48e+18, 1.48e+18, 1.48e+18, 1.48e+18, 1.48e+18, 1.48e+18, 1.48e+18, 1.48e+18, 1.48e+18, 1.48e+18, 1.48e+18, 1.48e+18, 1.48e+18, 1.48e+18, 1.48e+18, 1.48e+18, 1.48e+18, 1.48e+18, 1.48e+18, 1.48e+18, 1.48e+18, 1.48e+18, 1.48e+18]\n",
            "--------------------------------------------------------------------------------\n"
          ]
        }
      ]
    },
    {
      "cell_type": "code",
      "source": [
        "from scipy.cluster.hierarchy import ward, dendrogram\n",
        "from sklearn.metrics.pairwise import cosine_similarity"
      ],
      "metadata": {
        "id": "tAxADQF4gquH"
      },
      "execution_count": 47,
      "outputs": []
    },
    {
      "cell_type": "code",
      "source": [
        "def ward_hierarchical_clustering(feature_matrix):\n",
        "    \n",
        "    cosine_distance = 1 - cosine_similarity(feature_matrix)\n",
        "    linkage_matrix = ward(cosine_distance)\n",
        "    return linkage_matrix"
      ],
      "metadata": {
        "id": "xTT0sOrtl1Vw"
      },
      "execution_count": 48,
      "outputs": []
    },
    {
      "cell_type": "code",
      "source": [
        "import matplotlib.pyplot as plt\n",
        "%matplotlib inline\n",
        "\n",
        "def plot_hierarchical_clusters(linkage_matrix, paper_data, p=100, figure_size=(8,12)):\n",
        "    # set size\n",
        "    fig, ax = plt.subplots(figsize=figure_size) \n",
        "    paper_titles = paper_data['id'].values.tolist()\n",
        "    # plot dendrogram\n",
        "    R = dendrogram(linkage_matrix, orientation=\"left\", labels=paper_titles,\n",
        "                    truncate_mode='lastp', \n",
        "                    p=p,  \n",
        "                    no_plot=True)\n",
        "    temp = {R[\"leaves\"][ii]: paper_titles[ii] for ii in range(len(R[\"leaves\"]))}\n",
        "    def llf(xx):\n",
        "        return \"{}\".format(temp[xx])\n",
        "    ax = dendrogram(\n",
        "            linkage_matrix,\n",
        "            truncate_mode='lastp',\n",
        "            orientation=\"left\",\n",
        "            p=p,  \n",
        "            leaf_label_func=llf, \n",
        "            leaf_font_size=10.,\n",
        "            )\n",
        "    plt.tick_params(axis= 'x',   \n",
        "                    which='both',  \n",
        "                    bottom='off',\n",
        "                    top='off',\n",
        "                    labelbottom='off')\n",
        "    plt.tight_layout()\n",
        "    plt.savefig('tweet_id_hierachical_clusters.png', dpi=200)"
      ],
      "metadata": {
        "id": "P5ZVjzwzl2Hn"
      },
      "execution_count": 49,
      "outputs": []
    },
    {
      "cell_type": "code",
      "source": [
        "linkage_matrix = ward_hierarchical_clustering(doc_vecs_ft)"
      ],
      "metadata": {
        "id": "hZGF6lDql22L"
      },
      "execution_count": 50,
      "outputs": []
    },
    {
      "cell_type": "code",
      "source": [
        "np.set_printoptions(suppress=True)\n",
        "print(linkage_matrix)"
      ],
      "metadata": {
        "colab": {
          "base_uri": "https://localhost:8080/"
        },
        "id": "LESWsU9hl3uS",
        "outputId": "8d673445-d8ab-4835-9762-8666342e91a8"
      },
      "execution_count": 51,
      "outputs": [
        {
          "output_type": "stream",
          "name": "stdout",
          "text": [
            "[[118.         119.           0.           2.        ]\n",
            " [ 32.          44.           0.           2.        ]\n",
            " [166.         196.           0.           3.        ]\n",
            " [ 61.          62.           0.           2.        ]\n",
            " [ 69.          70.           0.           2.        ]\n",
            " [107.         117.           0.           2.        ]\n",
            " [108.         115.           0.           2.        ]\n",
            " [ 83.         111.           0.0343977    2.        ]\n",
            " [198.         199.           0.03490344   4.        ]\n",
            " [ 84.         202.           0.11319935   3.        ]\n",
            " [136.         137.           0.23345423   2.        ]\n",
            " [ 66.          82.           0.24984994   2.        ]\n",
            " [105.         177.           0.31319676   2.        ]\n",
            " [ 58.         204.           0.34873832   4.        ]\n",
            " [ 54.         104.           0.40427348   2.        ]\n",
            " [ 63.          73.           0.42535926   2.        ]\n",
            " [ 85.          89.           0.44130487   2.        ]\n",
            " [ 14.          25.           0.55185641   2.        ]\n",
            " [148.         179.           0.5692014    2.        ]\n",
            " [149.         197.           0.58168412   4.        ]\n",
            " [ 93.         192.           0.65495321   2.        ]\n",
            " [125.         206.           0.68402648   3.        ]\n",
            " [ 60.         157.           0.69532139   2.        ]\n",
            " [128.         168.           0.72766729   2.        ]\n",
            " [165.         188.           0.77518379   2.        ]\n",
            " [132.         218.           0.7973628    3.        ]\n",
            " [ 78.         158.           0.83420403   2.        ]\n",
            " [ 10.          45.           0.85636968   2.        ]\n",
            " [  6.          37.           0.88494198   2.        ]\n",
            " [113.         178.           0.88901075   2.        ]\n",
            " [ 18.         144.           0.88979078   2.        ]\n",
            " [124.         130.           0.89186615   2.        ]\n",
            " [ 11.         222.           0.9422711    3.        ]\n",
            " [ 23.          97.           0.95770207   2.        ]\n",
            " [  8.         145.           0.96825121   2.        ]\n",
            " [  5.          40.           0.97889257   2.        ]\n",
            " [  3.          56.           0.98928801   2.        ]\n",
            " [ 27.         155.           1.00218313   2.        ]\n",
            " [  2.           4.           1.00979732   2.        ]\n",
            " [ 57.         223.           1.02171748   3.        ]\n",
            " [  1.          38.           1.02312974   2.        ]\n",
            " [ 16.          34.           1.02390465   2.        ]\n",
            " [  7.          46.           1.02577267   2.        ]\n",
            " [ 28.         217.           1.03221172   3.        ]\n",
            " [ 86.          92.           1.05564415   2.        ]\n",
            " [109.         175.           1.07319986   2.        ]\n",
            " [142.         208.           1.07737863   5.        ]\n",
            " [ 15.         146.           1.07942161   2.        ]\n",
            " [ 65.         140.           1.08261959   2.        ]\n",
            " [ 26.          76.           1.10705138   2.        ]\n",
            " [ 24.          72.           1.1293941    2.        ]\n",
            " [ 12.         225.           1.13881718   3.        ]\n",
            " [ 43.         187.           1.1399582    2.        ]\n",
            " [ 30.          87.           1.14193161   2.        ]\n",
            " [ 42.         133.           1.14477694   2.        ]\n",
            " [209.         220.           1.14525437   5.        ]\n",
            " [ 77.          88.           1.14565236   2.        ]\n",
            " [ 39.         212.           1.15992992   3.        ]\n",
            " [ 29.         100.           1.16005115   2.        ]\n",
            " [  0.         229.           1.1635345    3.        ]\n",
            " [ 59.         126.           1.16498999   2.        ]\n",
            " [ 51.         152.           1.18235505   2.        ]\n",
            " [ 50.         120.           1.18403462   2.        ]\n",
            " [164.         173.           1.1855825    2.        ]\n",
            " [189.         221.           1.20436134   3.        ]\n",
            " [154.         213.           1.20790886   3.        ]\n",
            " [  9.         169.           1.21156925   2.        ]\n",
            " [127.         231.           1.21178753   3.        ]\n",
            " [114.         191.           1.21518239   2.        ]\n",
            " [153.         205.           1.22385293   3.        ]\n",
            " [180.         215.           1.26128824   3.        ]\n",
            " [ 74.         122.           1.26584662   2.        ]\n",
            " [ 33.         246.           1.27132022   4.        ]\n",
            " [ 53.         184.           1.27530324   2.        ]\n",
            " [ 55.         232.           1.28935612   3.        ]\n",
            " [ 71.          98.           1.29046449   2.        ]\n",
            " [ 13.         138.           1.29411028   2.        ]\n",
            " [186.         194.           1.29574857   2.        ]\n",
            " [129.         211.           1.30336121   3.        ]\n",
            " [ 35.         163.           1.30748143   2.        ]\n",
            " [ 52.         260.           1.31888688   4.        ]\n",
            " [110.         203.           1.35090755   5.        ]\n",
            " [ 21.         254.           1.3637025    4.        ]\n",
            " [ 41.         195.           1.38665439   3.        ]\n",
            " [ 22.          67.           1.39340204   2.        ]\n",
            " [ 90.         252.           1.403679     4.        ]\n",
            " [143.         171.           1.40457151   2.        ]\n",
            " [ 48.         216.           1.40847885   4.        ]\n",
            " [227.         238.           1.41459923   6.        ]\n",
            " [ 17.         131.           1.41495748   2.        ]\n",
            " [ 36.          96.           1.43351517   2.        ]\n",
            " [102.         135.           1.43989759   2.        ]\n",
            " [ 20.         156.           1.44014078   2.        ]\n",
            " [230.         234.           1.45597874   5.        ]\n",
            " [106.         112.           1.45602097   2.        ]\n",
            " [167.         185.           1.46514936   2.        ]\n",
            " [139.         176.           1.4668853    2.        ]\n",
            " [147.         181.           1.47010736   2.        ]\n",
            " [161.         245.           1.47525748   3.        ]\n",
            " [101.         160.           1.47965013   2.        ]\n",
            " [116.         174.           1.50770748   2.        ]\n",
            " [159.         265.           1.51808644   4.        ]\n",
            " [210.         243.           1.52414688   4.        ]\n",
            " [ 99.         182.           1.54048483   2.        ]\n",
            " [ 64.         172.           1.54425166   2.        ]\n",
            " [ 19.         183.           1.54521737   2.        ]\n",
            " [ 91.          94.           1.55235449   2.        ]\n",
            " [ 75.         170.           1.56107412   2.        ]\n",
            " [193.         248.           1.5726786    3.        ]\n",
            " [ 68.         207.           1.58235666   3.        ]\n",
            " [ 31.         247.           1.58753918   3.        ]\n",
            " [151.         240.           1.58774785   3.        ]\n",
            " [244.         262.           1.58982208   5.        ]\n",
            " [ 95.         273.           1.59486542   4.        ]\n",
            " [239.         285.           1.5948822    4.        ]\n",
            " [228.         280.           1.62808209   6.        ]\n",
            " [141.         263.           1.63198993   3.        ]\n",
            " [278.         301.           1.65006745   5.        ]\n",
            " [ 80.         121.           1.65162068   2.        ]\n",
            " [236.         267.           1.65847208   6.        ]\n",
            " [103.         279.           1.68424108   3.        ]\n",
            " [251.         315.           1.74252915   5.        ]\n",
            " [ 49.         219.           1.75320601   3.        ]\n",
            " [190.         257.           1.7646516    3.        ]\n",
            " [162.         311.           1.76557191   4.        ]\n",
            " [255.         292.           1.77209897   4.        ]\n",
            " [235.         300.           1.78006771   4.        ]\n",
            " [233.         242.           1.78861746   4.        ]\n",
            " [226.         291.           1.80045693   4.        ]\n",
            " [249.         290.           1.80080729   4.        ]\n",
            " [271.         299.           1.81527227   4.        ]\n",
            " [283.         288.           1.82761067  11.        ]\n",
            " [237.         307.           1.83017936   7.        ]\n",
            " [ 79.         150.           1.8419485    2.        ]\n",
            " [264.         295.           1.87287595   5.        ]\n",
            " [ 47.         309.           1.88452867   5.        ]\n",
            " [134.         272.           1.9063773    3.        ]\n",
            " [123.         316.           1.92419986   6.        ]\n",
            " [286.         289.           1.92722068   4.        ]\n",
            " [224.         287.           1.95681877   4.        ]\n",
            " [275.         318.           1.98079067   7.        ]\n",
            " [256.         270.           1.98125581   4.        ]\n",
            " [298.         313.           1.98734926   4.        ]\n",
            " [ 81.         253.           2.02662496   3.        ]\n",
            " [328.         337.           2.06836187   6.        ]\n",
            " [274.         296.           2.09107398   6.        ]\n",
            " [310.         327.           2.10839787  13.        ]\n",
            " [258.         305.           2.16234939   5.        ]\n",
            " [281.         302.           2.26158786   4.        ]\n",
            " [293.         314.           2.31098752   9.        ]\n",
            " [268.         269.           2.32138269   5.        ]\n",
            " [297.         308.           2.33667676   8.        ]\n",
            " [276.         304.           2.3412167    8.        ]\n",
            " [320.         331.           2.35298011   7.        ]\n",
            " [277.         322.           2.45031401   8.        ]\n",
            " [338.         348.           2.49389947  10.        ]\n",
            " [261.         294.           2.52767904   4.        ]\n",
            " [282.         330.           2.54157753   9.        ]\n",
            " [266.         321.           2.57093977   6.        ]\n",
            " [259.         284.           2.58401731   5.        ]\n",
            " [334.         353.           2.69889657  10.        ]\n",
            " [336.         342.           2.74432636   9.        ]\n",
            " [317.         333.           2.747938     7.        ]\n",
            " [319.         343.           2.78406662   8.        ]\n",
            " [341.         349.           2.85193827  21.        ]\n",
            " [306.         357.           2.88132377  10.        ]\n",
            " [323.         324.           2.92476634   8.        ]\n",
            " [340.         351.           2.9439358   10.        ]\n",
            " [326.         344.           3.01734589  20.        ]\n",
            " [325.         339.           3.09752259  10.        ]\n",
            " [250.         303.           3.34634874   8.        ]\n",
            " [214.         347.           3.49566145  12.        ]\n",
            " [350.         358.           3.56408116  18.        ]\n",
            " [332.         355.           3.6560553   16.        ]\n",
            " [361.         365.           3.71156217  16.        ]\n",
            " [346.         352.           3.81130725  17.        ]\n",
            " [312.         345.           3.95352996  10.        ]\n",
            " [329.         354.           3.95415682  10.        ]\n",
            " [359.         363.           4.12374842  41.        ]\n",
            " [356.         360.           4.1652338   19.        ]\n",
            " [241.         364.           4.35429264  15.        ]\n",
            " [369.         372.           4.70815283  26.        ]\n",
            " [368.         371.           4.89349354  26.        ]\n",
            " [335.         374.           4.89657113  26.        ]\n",
            " [367.         375.           5.19406297  33.        ]\n",
            " [362.         378.           5.31204322  36.        ]\n",
            " [200.         379.           5.79369523  35.        ]\n",
            " [370.         376.           6.64708645  43.        ]\n",
            " [377.         381.           6.97441166  61.        ]\n",
            " [380.         383.           7.95969069  97.        ]\n",
            " [366.         382.           8.64887307  55.        ]\n",
            " [373.         384.          11.36818147 138.        ]\n",
            " [201.         385.          13.68242139  57.        ]\n",
            " [386.         387.          15.93607279 195.        ]]\n"
          ]
        }
      ]
    },
    {
      "cell_type": "code",
      "source": [
        "plot_hierarchical_clusters(linkage_matrix,\n",
        "                           p=200,\n",
        "                           paper_data=df,\n",
        "                           figure_size=(18, 30))"
      ],
      "metadata": {
        "colab": {
          "base_uri": "https://localhost:8080/",
          "height": 1000
        },
        "id": "4F0NsWtol4ZD",
        "outputId": "7f6f1274-5e13-4bcc-cee1-7bd8772c9e98"
      },
      "execution_count": 52,
      "outputs": [
        {
          "output_type": "display_data",
          "data": {
            "text/plain": [
              "<Figure size 1296x2160 with 1 Axes>"
            ],
            "image/png": "[encoded data removed]"
          },
          "metadata": {
            "needs_background": "light"
          }
        }
      ]
    },
    {
      "cell_type": "code",
      "source": [
        "  "
      ],
      "metadata": {
        "id": "w4yd6_8Ul5Pi"
      },
      "execution_count": null,
      "outputs": []
    }
  ]
}